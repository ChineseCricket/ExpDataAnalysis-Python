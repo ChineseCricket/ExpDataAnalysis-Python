{
 "cells": [
  {
   "cell_type": "markdown",
   "metadata": {},
   "source": [
    "本例主要演示间接测量量的不确定度报告的使用方法"
   ]
  },
  {
   "cell_type": "code",
   "execution_count": 3,
   "metadata": {},
   "outputs": [],
   "source": [
    "from ExpDataAnalysis import ExpDataAnalysis as EDA\n",
    "import numpy as np\n",
    "import pandas as pd\n",
    "import seaborn as sns\n",
    "from matplotlib import pyplot as plt\n",
    "from sympy import *\n",
    "from scipy.interpolate import make_interp_spline\n",
    "from scipy.stats import norm\n",
    "from sklearn.metrics import r2_score\n",
    "from scipy.stats import t"
   ]
  },
  {
   "cell_type": "code",
   "execution_count": 2,
   "metadata": {},
   "outputs": [
    {
     "data": {
      "text/plain": [
       "174.0"
      ]
     },
     "execution_count": 2,
     "metadata": {},
     "output_type": "execute_result"
    }
   ],
   "source": [
    "np.mean([174,174,174,176,172])"
   ]
  },
  {
   "cell_type": "code",
   "execution_count": 3,
   "metadata": {},
   "outputs": [
    {
     "data": {
      "text/plain": [
       "4.651114942528736"
      ]
     },
     "execution_count": 3,
     "metadata": {},
     "output_type": "execute_result"
    }
   ],
   "source": [
    "4.678*173/174"
   ]
  },
  {
   "cell_type": "code",
   "execution_count": 5,
   "metadata": {},
   "outputs": [
    {
     "data": {
      "text/plain": [
       "3.047105943152455"
      ]
     },
     "execution_count": 5,
     "metadata": {},
     "output_type": "execute_result"
    }
   ],
   "source": [
    "3.055*386/387"
   ]
  },
  {
   "cell_type": "code",
   "execution_count": 3,
   "metadata": {},
   "outputs": [
    {
     "data": {
      "text/plain": [
       "9.782614613747938"
      ]
     },
     "execution_count": 3,
     "metadata": {},
     "output_type": "execute_result"
    }
   ],
   "source": [
    "9.80665*(1-0.00265*np.cos(np.deg2rad(22.35)))"
   ]
  },
  {
   "cell_type": "code",
   "execution_count": 14,
   "metadata": {},
   "outputs": [],
   "source": [
    "#静态法\n",
    "d = 5e-3\n",
    "eta = 1.83e-5\n",
    "b = 0.00823\n",
    "l = 1.6e-3\n",
    "g = 9.78261\n",
    "rho = 981\n",
    "p = 101325\n",
    "def q1(L):\n",
    "    U,tg = L\n",
    "    return (18*np.pi/(2*rho*g)**(1/2))*(eta*l/(tg*(1+b/(p*((9*eta*(l/tg))/(2*rho*g))**(1/2)))))**(3/2)*(d/U)\n"
   ]
  },
  {
   "cell_type": "code",
   "execution_count": 15,
   "metadata": {},
   "outputs": [],
   "source": [
    "U1=np.array([174,174,174,176,172])\n",
    "tg1=np.array([22.54,22.67,22.77,22.65,23.41])\n",
    "U2=[201, 200, 199, 198, 197]\n",
    "tg2=[26.37, 27.01, 26.00, 26.99, 27.71]\n",
    "U3=[387, 387, 387, 387, 386]\n",
    "tg3=[18.11, 18.18, 18.00, 17.59, 17.81]\n",
    "U4=[243, 242, 242, 242, 242]\n",
    "tg4=[13.46, 13.90, 13.51, 13.70, 13.69]\n",
    "U5=[395, 395, 395, 395, 395]\n",
    "tg5=[25.41, 25.10, 25.30, 24.90, 25.32]"
   ]
  },
  {
   "cell_type": "code",
   "execution_count": 16,
   "metadata": {},
   "outputs": [
    {
     "name": "stdout",
     "output_type": "stream",
     "text": [
      "各平均值为:\n",
      "[174.     22.808]\n",
      "各测量列的标准差为:\n",
      "[1.41421356 0.34629467]\n",
      "各平均值的标准差为:\n",
      "[0.63245553 0.15486769]\n",
      "各测量列的自由度为:\n",
      "[4. 4.]\n",
      "间接测量量： 4.646571341517916e-19\n",
      "所有参数为: U,tg\n",
      "{U: 0.6324555320336759, tg: 0.15486768546084761}\n",
      "传递系数和各项标准不确定度：\n",
      "aU = -1.02252072478446e-14*(1/(tg*(0.0219206437173919*(1/tg)**(-0.5) + 1)))**1.5/U**2 = -2.67044329972294e-21\n",
      "u1 =aU*uU = -1.68893663789204e-21\n",
      "atg = 1.02252072478446e-14*tg*(1/(tg*(0.0219206437173919*(1/tg)**(-0.5) + 1)))**1.5*(-1.5/(tg**2*(0.0219206437173919*(1/tg)**(-0.5) + 1)) - 0.0164404827880439*(1/tg)**(-0.5)/(tg**2*(0.0219206437173919*(1/tg)**(-0.5) + 1)**2))*(0.0219206437173919*(1/tg)**(-0.5) + 1)/U = -3.20068104863167e-20\n",
      "u2 =atg*utg = -4.95682065899985e-21\n",
      "合成标准不确定度u = 5.23665714099193e-21\n",
      "各自由度分量:\n",
      "νU = 4.0\n",
      "νtg = 4.0\n",
      "合成自由度ν = 4.91642253769725\n",
      "包含因子k = 5.5742475170410115\n",
      "不确定度报告：\n",
      "\\begin{equation}\n",
      "X=\\bar{X}\\pm U_{X}\\approx(0.000000\\pm 0.000000)\n",
      "\\end{equation} \n",
      "其中展伸不确定度$U_{X}={k}\\times{u_{X}}\\approx0.000000$，是由合成标准不确定度$u_{X}\\approx0.000000$和包含因子$k\\approx5.574248$确定的，k是依据置信概率$P=99.73\\%$和自由度$\\nu\\approx4.92$查t分布表得到的。\n"
     ]
    },
    {
     "data": {
      "text/plain": [
       "(4.646571341517916e-19,\n",
       " 5.5742475170410115,\n",
       " 5.23665714099193e-21,\n",
       " 4.91642253769725)"
      ]
     },
     "execution_count": 16,
     "metadata": {},
     "output_type": "execute_result"
    }
   ],
   "source": [
    "EDA(np.array([U1,tg1])).UncertaintyReport(func=q1)"
   ]
  },
  {
   "cell_type": "code",
   "execution_count": 17,
   "metadata": {},
   "outputs": [
    {
     "name": "stdout",
     "output_type": "stream",
     "text": [
      "各平均值为:\n",
      "[199.     26.816]\n",
      "各测量列的标准差为:\n",
      "[1.58113883 0.65801216]\n",
      "各平均值的标准差为:\n",
      "[0.70710678 0.29427198]\n",
      "各测量列的自由度为:\n",
      "[4. 4.]\n",
      "间接测量量： 3.1490850569070443e-19\n",
      "所有参数为: U,tg\n",
      "{U: 0.7071067811865476, tg: 0.2942719830361022}\n",
      "传递系数和各项标准不确定度：\n",
      "aU = -1.02252072478446e-14*(1/(tg*(0.0219206437173919*(1/tg)**(-0.5) + 1)))**1.5/U**2 = -1.58245480246585e-21\n",
      "u1 =aU*uU = -1.11896452174482e-21\n",
      "atg = 1.02252072478446e-14*tg*(1/(tg*(0.0219206437173919*(1/tg)**(-0.5) + 1)))**1.5*(-1.5/(tg**2*(0.0219206437173919*(1/tg)**(-0.5) + 1)) - 0.0164404827880439*(1/tg)**(-0.5)/(tg**2*(0.0219206437173919*(1/tg)**(-0.5) + 1)**2))*(0.0219206437173919*(1/tg)**(-0.5) + 1)/U = -1.85128146359885e-20\n",
      "u2 =atg*utg = -5.44780267451212e-21\n",
      "合成标准不确定度u = 5.56153176574089e-21\n",
      "各自由度分量:\n",
      "νU = 4.0\n",
      "νtg = 4.0\n",
      "合成自由度ν = 4.33690510990453\n",
      "包含因子k = 6.154663122234254\n",
      "不确定度报告：\n",
      "\\begin{equation}\n",
      "X=\\bar{X}\\pm U_{X}\\approx(0.000000\\pm 0.000000)\n",
      "\\end{equation} \n",
      "其中展伸不确定度$U_{X}={k}\\times{u_{X}}\\approx0.000000$，是由合成标准不确定度$u_{X}\\approx0.000000$和包含因子$k\\approx6.154663$确定的，k是依据置信概率$P=99.73\\%$和自由度$\\nu\\approx4.34$查t分布表得到的。\n"
     ]
    },
    {
     "data": {
      "text/plain": [
       "(3.1490850569070443e-19,\n",
       " 6.154663122234254,\n",
       " 5.56153176574089e-21,\n",
       " 4.33690510990453)"
      ]
     },
     "execution_count": 17,
     "metadata": {},
     "output_type": "execute_result"
    }
   ],
   "source": [
    "EDA(np.array([U2,tg2])).UncertaintyReport(func=q1)"
   ]
  },
  {
   "cell_type": "code",
   "execution_count": 19,
   "metadata": {},
   "outputs": [
    {
     "name": "stdout",
     "output_type": "stream",
     "text": [
      "各平均值为:\n",
      "[386.8    17.938]\n",
      "各测量列的标准差为:\n",
      "[0.4472136  0.23952035]\n",
      "各平均值的标准差为:\n",
      "[0.2        0.10711676]\n",
      "各测量列的自由度为:\n",
      "[4. 4.]\n",
      "间接测量量： 3.0457137927821784e-19\n",
      "所有参数为: U,tg\n",
      "{U: 0.19999999999999998, tg: 0.1071167587261676}\n",
      "传递系数和各项标准不确定度：\n",
      "aU = -1.02252072478446e-14*(1/(tg*(0.0219206437173919*(1/tg)**(-0.5) + 1)))**1.5/U**2 = -7.87413079829932e-22\n",
      "u1 =aU*uU = -1.57482615965986e-22\n",
      "atg = 1.02252072478446e-14*tg*(1/(tg*(0.0219206437173919*(1/tg)**(-0.5) + 1)))**1.5*(-1.5/(tg**2*(0.0219206437173919*(1/tg)**(-0.5) + 1)) - 0.0164404827880439*(1/tg)**(-0.5)/(tg**2*(0.0219206437173919*(1/tg)**(-0.5) + 1)**2))*(0.0219206437173919*(1/tg)**(-0.5) + 1)/U = -2.65505052084154e-20\n",
      "u2 =atg*utg = -2.84400406046769e-21\n",
      "合成标准不确定度u = 2.84836090941584e-21\n",
      "各自由度分量:\n",
      "νU = 4.0\n",
      "νtg = 4.0\n",
      "合成自由度ν = 4.02452961434405\n",
      "包含因子k = 6.581908375821695\n",
      "不确定度报告：\n",
      "\\begin{equation}\n",
      "X=\\bar{X}\\pm U_{X}\\approx(0.000000\\pm 0.000000)\n",
      "\\end{equation} \n",
      "其中展伸不确定度$U_{X}={k}\\times{u_{X}}\\approx0.000000$，是由合成标准不确定度$u_{X}\\approx0.000000$和包含因子$k\\approx6.581908$确定的，k是依据置信概率$P=99.73\\%$和自由度$\\nu\\approx4.02$查t分布表得到的。\n"
     ]
    },
    {
     "data": {
      "text/plain": [
       "(3.0457137927821784e-19,\n",
       " 6.581908375821695,\n",
       " 2.84836090941584e-21,\n",
       " 4.02452961434405)"
      ]
     },
     "execution_count": 19,
     "metadata": {},
     "output_type": "execute_result"
    }
   ],
   "source": [
    "EDA(np.array([U3,tg3])).UncertaintyReport(func=q1)"
   ]
  },
  {
   "cell_type": "code",
   "execution_count": 20,
   "metadata": {},
   "outputs": [
    {
     "name": "stdout",
     "output_type": "stream",
     "text": [
      "各平均值为:\n",
      "[242.2    13.652]\n",
      "各测量列的标准差为:\n",
      "[0.4472136  0.17484279]\n",
      "各平均值的标准差为:\n",
      "[0.2        0.07819207]\n",
      "各测量列的自由度为:\n",
      "[4. 4.]\n",
      "间接测量量： 7.4467846295432525e-19\n",
      "所有参数为: U,tg\n",
      "{U: 0.2, tg: 0.07819207120929839}\n",
      "传递系数和各项标准不确定度：\n",
      "aU = -1.02252072478446e-14*(1/(tg*(0.0219206437173919*(1/tg)**(-0.5) + 1)))**1.5/U**2 = -3.07464270418797e-21\n",
      "u1 =aU*uU = -6.14928540837593e-22\n",
      "atg = 1.02252072478446e-14*tg*(1/(tg*(0.0219206437173919*(1/tg)**(-0.5) + 1)))**1.5*(-1.5/(tg**2*(0.0219206437173919*(1/tg)**(-0.5) + 1)) - 0.0164404827880439*(1/tg)**(-0.5)/(tg**2*(0.0219206437173919*(1/tg)**(-0.5) + 1)**2))*(0.0219206437173919*(1/tg)**(-0.5) + 1)/U = -8.48860324957523e-20\n",
      "u2 =atg*utg = -6.63741469758268e-21\n",
      "合成标准不确定度u = 6.66583910532075e-21\n",
      "各自由度分量:\n",
      "νU = 4.0\n",
      "νtg = 4.0\n",
      "合成自由度ν = 4.06866088366828\n",
      "包含因子k = 6.515112260889173\n",
      "不确定度报告：\n",
      "\\begin{equation}\n",
      "X=\\bar{X}\\pm U_{X}\\approx(0.000000\\pm 0.000000)\n",
      "\\end{equation} \n",
      "其中展伸不确定度$U_{X}={k}\\times{u_{X}}\\approx0.000000$，是由合成标准不确定度$u_{X}\\approx0.000000$和包含因子$k\\approx6.515112$确定的，k是依据置信概率$P=99.73\\%$和自由度$\\nu\\approx4.07$查t分布表得到的。\n"
     ]
    },
    {
     "data": {
      "text/plain": [
       "(7.4467846295432525e-19,\n",
       " 6.515112260889173,\n",
       " 6.66583910532075e-21,\n",
       " 4.06866088366828)"
      ]
     },
     "execution_count": 20,
     "metadata": {},
     "output_type": "execute_result"
    }
   ],
   "source": [
    "EDA(np.array([U4,tg4])).UncertaintyReport(func=q1)"
   ]
  },
  {
   "cell_type": "code",
   "execution_count": 21,
   "metadata": {},
   "outputs": [
    {
     "name": "stdout",
     "output_type": "stream",
     "text": [
      "各平均值为:\n",
      "[395.     25.206]\n",
      "各测量列的标准差为:\n",
      "[0.        0.2051341]\n",
      "各平均值的标准差为:\n",
      "[0.         0.09173876]\n",
      "各测量列的自由度为:\n",
      "[4. 4.]\n",
      "间接测量量： 1.749053324040255e-19\n",
      "所有参数为: U,tg\n",
      "{U: 0.0, tg: 0.09173875952943794}\n",
      "传递系数和各项标准不确定度：\n",
      "aU = -1.02252072478446e-14*(1/(tg*(0.0219206437173919*(1/tg)**(-0.5) + 1)))**1.5/U**2 = -4.42798309883609e-22\n",
      "u1 =aU*uU = 0\n",
      "atg = 1.02252072478446e-14*tg*(1/(tg*(0.0219206437173919*(1/tg)**(-0.5) + 1)))**1.5*(-1.5/(tg**2*(0.0219206437173919*(1/tg)**(-0.5) + 1)) - 0.0164404827880439*(1/tg)**(-0.5)/(tg**2*(0.0219206437173919*(1/tg)**(-0.5) + 1)**2))*(0.0219206437173919*(1/tg)**(-0.5) + 1)/U = -1.09245200770931e-20\n",
      "u2 =atg*utg = -1.00220192032697e-21\n",
      "合成标准不确定度u = 1.00220192032697e-21\n",
      "各自由度分量:\n",
      "νU = 4.0\n",
      "νtg = 4.0\n",
      "合成自由度ν = 4.00000000000000\n",
      "包含因子k = 6.620071562817905\n",
      "不确定度报告：\n",
      "\\begin{equation}\n",
      "X=\\bar{X}\\pm U_{X}\\approx(0.000000\\pm 0.000000)\n",
      "\\end{equation} \n",
      "其中展伸不确定度$U_{X}={k}\\times{u_{X}}\\approx0.000000$，是由合成标准不确定度$u_{X}\\approx0.000000$和包含因子$k\\approx6.620072$确定的，k是依据置信概率$P=99.73\\%$和自由度$\\nu\\approx4.00$查t分布表得到的。\n"
     ]
    },
    {
     "data": {
      "text/plain": [
       "(1.749053324040255e-19,\n",
       " 6.620071562817905,\n",
       " 1.00220192032697e-21,\n",
       " 4.00000000000000)"
      ]
     },
     "execution_count": 21,
     "metadata": {},
     "output_type": "execute_result"
    }
   ],
   "source": [
    "EDA(np.array([U5,tg5])).UncertaintyReport(func=q1)"
   ]
  },
  {
   "cell_type": "code",
   "execution_count": 23,
   "metadata": {},
   "outputs": [
    {
     "data": {
      "text/plain": [
       "[2.902621722846442,\n",
       " 1.9662921348314606,\n",
       " 1.901373283395755,\n",
       " 4.65043695380774,\n",
       " 1.0923845193508115]"
      ]
     },
     "execution_count": 23,
     "metadata": {},
     "output_type": "execute_result"
    }
   ],
   "source": [
    "[4.65/1.602, 3.15/1.602, 3.046/1.602, 7.45/1.602, 1.75/1.602]"
   ]
  },
  {
   "cell_type": "code",
   "execution_count": 25,
   "metadata": {},
   "outputs": [
    {
     "name": "stdout",
     "output_type": "stream",
     "text": [
      "各平均值为:\n",
      "[nan]\n",
      "各测量列的标准差为:\n",
      "[-0.]\n",
      "各平均值的标准差为:\n",
      "[nan]\n",
      "各测量列的自由度为:\n",
      "[-1.]\n",
      "间接测量量： 1.5769333577265643\n",
      "所有参数为: q1,q2,q3,q4,q5\n",
      "{q1: 0.0523665714099193, q2: 0.0556153176574089, q3: 0.0284836090941584, q4: 0.0666583910532075, q5: 0.0100220192032697}\n",
      "传递系数和各项标准不确定度：\n",
      "aq1 = 1/15 = 1/15\n",
      "u1 =aq1*uq1 = 0.00349110476066129\n",
      "aq2 = 1/10 = 1/10\n",
      "u2 =aq2*uq2 = 0.00556153176574089\n",
      "aq3 = 1/10 = 1/10\n",
      "u3 =aq3*uq3 = 0.00284836090941584\n",
      "aq4 = 1/25 = 1/25\n",
      "u4 =aq4*uq4 = 0.00266633564212830\n",
      "aq5 = 1/5 = 1/5\n",
      "u5 =aq5*uq5 = 0.00200440384065394\n",
      "合成标准不确定度u = 0.00789674543178752\n",
      "各自由度分量:\n",
      "νq1 = 4.91642253769725\n",
      "νq2 = 4.33690510990453\n",
      "νq3 = 4.02452961434405\n",
      "νq4 = 4.06866088366828\n",
      "νq5 = 4.0\n",
      "合成自由度ν = 13.7104303248477\n",
      "包含因子k = 3.6516411842269476\n",
      "不确定度报告：\n",
      "\\begin{equation}\n",
      "e=\\bar{e}\\pm U_{e}\\approx(1.576933\\pm 0.028836)C\n",
      "\\end{equation} \n",
      "其中展伸不确定度$U_{e}={k}\\times{u_{e}}\\approx0.028836C$，是由合成标准不确定度$u_{e}\\approx0.007897C$和包含因子$k\\approx3.651641$确定的，k是依据置信概率$P=99.73\\%$和自由度$\\nu\\approx13.71$查t分布表得到的。\n"
     ]
    },
    {
     "name": "stderr",
     "output_type": "stream",
     "text": [
      "D:\\Anaconda\\lib\\site-packages\\numpy\\lib\\function_base.py:380: RuntimeWarning: Mean of empty slice.\n",
      "  avg = a.mean(axis)\n",
      "D:\\Anaconda\\lib\\site-packages\\numpy\\core\\_methods.py:188: RuntimeWarning: invalid value encountered in double_scalars\n",
      "  ret = ret.dtype.type(ret / rcount)\n",
      "D:\\Anaconda\\lib\\site-packages\\numpy\\lib\\function_base.py:380: RuntimeWarning: Mean of empty slice.\n",
      "  avg = a.mean(axis)\n",
      "D:\\Anaconda\\lib\\site-packages\\numpy\\core\\_methods.py:188: RuntimeWarning: invalid value encountered in double_scalars\n",
      "  ret = ret.dtype.type(ret / rcount)\n",
      "e:\\Python\\Physics\\Fudermental Experiments\\ExpDataAnalysis.py:61: RuntimeWarning: invalid value encountered in true_divide\n",
      "  AvgBslStd = BslStd/np.sqrt(self.L.shape[1])\n"
     ]
    },
    {
     "data": {
      "text/plain": [
       "(1.5769333577265643, 3.6516411842269476, 0.00789674543178752, 13.7104303248477)"
      ]
     },
     "execution_count": 25,
     "metadata": {},
     "output_type": "execute_result"
    }
   ],
   "source": [
    "exData=np.array([[4.646571341517916,3.1490850569070443,3.0457137927821784,7.4467846295432525,1.749053324040255],\n",
    "                [5.23665714099193e-2,5.56153176574089e-2,2.84836090941584e-2,6.66583910532075e-2,1.00220192032697e-2],\n",
    "                [4.91642253769725,4.33690510990453,4.02452961434405,4.06866088366828,4.00000000000000]])\n",
    "def e1(L):\n",
    "    q1,q2,q3,q4,q5 = L\n",
    "    return (q1/3+q2/2+q3/2+q4/5+q5)/5\n",
    "\n",
    "EDA(np.array([[]])).UncertaintyReport(exData=exData,func = e1, resunit='C', reslab='e')               "
   ]
  },
  {
   "cell_type": "code",
   "execution_count": 26,
   "metadata": {},
   "outputs": [
    {
     "name": "stdout",
     "output_type": "stream",
     "text": [
      "间接测量量： 1.5769333577265643\n",
      "所有参数为: q1,q2,q3,q4,q5\n",
      "{q1: 0.0523665714099193, q2: 0.0556153176574089, q3: 0.0284836090941584, q4: 0.0666583910532075, q5: 0.0100220192032697}\n",
      "传递系数和各项标准不确定度：\n",
      "aq1 = 1/15 = 1/15\n",
      "u1 =aq1*uq1 = 0.00349110476066129\n",
      "aq2 = 1/10 = 1/10\n",
      "u2 =aq2*uq2 = 0.00556153176574089\n",
      "aq3 = 1/10 = 1/10\n",
      "u3 =aq3*uq3 = 0.00284836090941584\n",
      "aq4 = 1/25 = 1/25\n",
      "u4 =aq4*uq4 = 0.00266633564212830\n",
      "aq5 = 1/5 = 1/5\n",
      "u5 =aq5*uq5 = 0.00200440384065394\n",
      "合成标准不确定度u = 0.00789674543178752\n",
      "各自由度分量:\n",
      "νq1 = 4.91642253769725\n",
      "νq2 = 4.33690510990453\n",
      "νq3 = 4.02452961434405\n",
      "νq4 = 4.06866088366828\n",
      "νq5 = 4.0\n",
      "合成自由度ν = 13.7104303248477\n",
      "包含因子k = 3.6516411842269476\n",
      "\n"
     ]
    }
   ],
   "source": [
    "print('间接测量量： 1.5769333577265643\\n所有参数为: q1,q2,q3,q4,q5\\n{q1: 0.0523665714099193, q2: 0.0556153176574089, q3: 0.0284836090941584, q4: 0.0666583910532075, q5: 0.0100220192032697}\\n传递系数和各项标准不确定度：\\naq1 = 1/15 = 1/15\\nu1 =aq1*uq1 = 0.00349110476066129\\naq2 = 1/10 = 1/10\\nu2 =aq2*uq2 = 0.00556153176574089\\naq3 = 1/10 = 1/10\\nu3 =aq3*uq3 = 0.00284836090941584\\naq4 = 1/25 = 1/25\\nu4 =aq4*uq4 = 0.00266633564212830\\naq5 = 1/5 = 1/5\\nu5 =aq5*uq5 = 0.00200440384065394\\n合成标准不确定度u = 0.00789674543178752\\n各自由度分量:\\nνq1 = 4.91642253769725\\nνq2 = 4.33690510990453\\nνq3 = 4.02452961434405\\nνq4 = 4.06866088366828\\nνq5 = 4.0\\n合成自由度ν = 13.7104303248477\\n包含因子k = 3.6516411842269476\\n')"
   ]
  },
  {
   "cell_type": "code",
   "execution_count": 11,
   "metadata": {},
   "outputs": [
    {
     "name": "stderr",
     "output_type": "stream",
     "text": [
      "D:\\Anaconda\\lib\\site-packages\\seaborn\\_decorators.py:36: FutureWarning: Pass the following variables as keyword args: x, y. From version 0.12, the only valid positional argument will be `data`, and passing other arguments without an explicit keyword will result in an error or misinterpretation.\n",
      "  warnings.warn(\n"
     ]
    },
    {
     "data": {
      "text/plain": [
       "(<Figure size 576x432 with 1 Axes>,\n",
       " <AxesSubplot:xlabel='带电荷数$n$', ylabel='电荷量$q/\\\\times10^{-19}C$'>,\n",
       " array([1.4364725 , 0.27261312]),\n",
       " array([0.0239348 , 0.07019062]),\n",
       " array([4.16550347e-03, 1.24392296e-05, 9.96889122e-03, 6.70925536e-05,\n",
       "        1.59741692e-03]),\n",
       " 0.9991678056905785)"
      ]
     },
     "execution_count": 11,
     "metadata": {},
     "output_type": "execute_result"
    },
    {
     "data": {
      "image/png": "[encoded data removed]",
      "text/plain": [
       "<Figure size 576x432 with 1 Axes>"
      ]
     },
     "metadata": {
      "needs_background": "light"
     },
     "output_type": "display_data"
    }
   ],
   "source": [
    "EDA(np.array([[4.646571341517916,3.1490850569070443,3.0457137927821784,7.4467846295432525,1.749053324040255]]),np.array([[3,2,2,5,1]])).LinearPlot(xlabel='带电荷数$n$',ylabel='电荷量$q/\\\\times10^{-19}C$',title='q-n拟合直线',xname='n',yname='q',FileAdress='E:/Latex/FE 2/BA4/平衡法拟合.png')\n"
   ]
  },
  {
   "cell_type": "code",
   "execution_count": 31,
   "metadata": {},
   "outputs": [],
   "source": [
    "def q2(L):\n",
    "    tg,U,te = L\n",
    "    return 18*np.pi/((2*rho*g)**(1/2))*(eta*l/(1+(b/(p*(9*eta*(l/tg)/(2*rho*g))**(1/2)))))**(3/2)*(d/U)*(1/te+1/tg)*(1/tg)**(1/2)"
   ]
  },
  {
   "cell_type": "code",
   "execution_count": 32,
   "metadata": {},
   "outputs": [],
   "source": [
    "tg1 = [15.15, 14.64, 15.58, 14.95, 15.20]\n",
    "tg2 = [14.99, 15.41, 15.01, 15.46, 15.26]\n",
    "tg3 = [16.40, 16.20, 16.50, 16.40, 16.60]\n",
    "tg4 = [22.36, 22.44, 22.15, 22.48, 22.61]\n",
    "tg5 = [22.49, 22.27, 22.71, 22.61, 22.45]\n",
    "U1 = [555, 555, 557, 557, 557]\n",
    "U2 = [348, 348, 348, 348, 348]\n",
    "U3 = [472, 472, 472, 472, 472]\n",
    "U4 = [388, 388, 388, 388, 388]\n",
    "U5 = [348, 348, 348, 348, 348]\n",
    "te1 = [25.29, 24.67, 23.69, 24.19, 24.97]\n",
    "te2 = [13.84, 13.89, 14.07, 14.47, 14.85]\n",
    "te3 = [16.60, 16.30, 16.40, 16.70, 16.60]\n",
    "te4 = [18.80, 19.10, 19.00, 18.50, 18.50]\n",
    "te5 = [13.50, 13.94, 13.50, 13.60, 13.61]"
   ]
  },
  {
   "cell_type": "code",
   "execution_count": 33,
   "metadata": {},
   "outputs": [
    {
     "name": "stdout",
     "output_type": "stream",
     "text": [
      "各平均值为:\n",
      "[ 15.104 556.2    24.562]\n",
      "各测量列的标准差为:\n",
      "[0.34529697 1.09544512 0.63381385]\n",
      "各平均值的标准差为:\n",
      "[0.1544215  0.48989795 0.28345017]\n",
      "各测量列的自由度为:\n",
      "[4. 4. 4.]\n",
      "间接测量量： 4.4740199697199e-19\n",
      "所有参数为: tg,U,te\n",
      "{tg: 0.15442150109359767, U: 0.48989794855663565, te: 0.2834501719879523}\n",
      "传递系数和各项标准不确定度：\n",
      "atg = -5.11260362392228e-15*(1/tg + 1/te)*(1/tg)**0.5*(1/(0.0219206437173919*(1/tg)**(-0.5) + 1))**1.5/(U*tg) - 1.6810734376237e-16*(1/tg + 1/te)*(1/(0.0219206437173919*(1/tg)**(-0.5) + 1))**1.5/(U*tg*(0.0219206437173919*(1/tg)**(-0.5) + 1)) - 1.02252072478446e-14*(1/tg)**0.5*(1/(0.0219206437173919*(1/tg)**(-0.5) + 1))**1.5/(U*tg**2) = -3.48969591651318e-20\n",
      "u1 =atg*utg = -5.38884081788164e-21\n",
      "aU = -1.02252072478446e-14*(1/tg + 1/te)*(1/tg)**0.5*(1/(0.0219206437173919*(1/tg)**(-0.5) + 1))**1.5/U**2 = -8.04390501567763e-22\n",
      "u2 =aU*uU = -3.94069256556490e-22\n",
      "ate = -1.02252072478446e-14*(1/tg)**0.5*(1/(0.0219206437173919*(1/tg)**(-0.5) + 1))**1.5/(U*te**2) = -6.93597885707860e-21\n",
      "u3 =ate*ute = -1.96600439994373e-21\n",
      "合成标准不确定度u = 5.74978862568254e-21\n",
      "各自由度分量:\n",
      "νtg = 4.0\n",
      "νU = 4.0\n",
      "νte = 4.0\n",
      "合成自由度ν = 5.09386513954940\n",
      "包含因子k = 5.435339675413738\n",
      "不确定度报告：\n",
      "\\begin{equation}\n",
      "X=\\bar{X}\\pm U_{X}\\approx(0.000000\\pm 0.000000)\n",
      "\\end{equation} \n",
      "其中展伸不确定度$U_{X}={k}\\times{u_{X}}\\approx0.000000$，是由合成标准不确定度$u_{X}\\approx0.000000$和包含因子$k\\approx5.435340$确定的，k是依据置信概率$P=99.73\\%$和自由度$\\nu\\approx5.09$查t分布表得到的。\n"
     ]
    },
    {
     "data": {
      "text/plain": [
       "(4.4740199697199e-19,\n",
       " 5.435339675413738,\n",
       " 5.74978862568254e-21,\n",
       " 5.09386513954940)"
      ]
     },
     "execution_count": 33,
     "metadata": {},
     "output_type": "execute_result"
    }
   ],
   "source": [
    "EDA(np.array([tg1,U1,te1])).UncertaintyReport(func = q2)"
   ]
  },
  {
   "cell_type": "code",
   "execution_count": 34,
   "metadata": {},
   "outputs": [
    {
     "name": "stdout",
     "output_type": "stream",
     "text": [
      "各平均值为:\n",
      "[ 15.226 348.     14.224]\n",
      "各测量列的标准差为:\n",
      "[0.21915748 0.         0.4286957 ]\n",
      "各平均值的标准差为:\n",
      "[0.0980102  0.         0.19171854]\n",
      "各测量列的自由度为:\n",
      "[4. 4. 4.]\n",
      "间接测量量： 9.05339914956872e-19\n",
      "所有参数为: tg,U,te\n",
      "{tg: 0.09801020355044683, U: 0.0, te: 0.19171854370404542}\n",
      "传递系数和各项标准不确定度：\n",
      "atg = -5.11260362392228e-15*(1/tg + 1/te)*(1/tg)**0.5*(1/(0.0219206437173919*(1/tg)**(-0.5) + 1))**1.5/(U*tg) - 1.6810734376237e-16*(1/tg + 1/te)*(1/(0.0219206437173919*(1/tg)**(-0.5) + 1))**1.5/(U*tg*(0.0219206437173919*(1/tg)**(-0.5) + 1)) - 1.02252072478446e-14*(1/tg)**0.5*(1/(0.0219206437173919*(1/tg)**(-0.5) + 1))**1.5/(U*tg**2) = -6.19624988112096e-20\n",
      "u1 =atg*utg = -6.07295712098097e-21\n",
      "aU = -1.02252072478446e-14*(1/tg + 1/te)*(1/tg)**0.5*(1/(0.0219206437173919*(1/tg)**(-0.5) + 1))**1.5/U**2 = -2.60155147976113e-21\n",
      "u2 =aU*uU = 0\n",
      "ate = -1.02252072478446e-14*(1/tg)**0.5*(1/(0.0219206437173919*(1/tg)**(-0.5) + 1))**1.5/(U*te**2) = -3.29071636382358e-20\n",
      "u3 =ate*ute = -6.30891349015329e-21\n",
      "合成标准不确定度u = 8.75689429075809e-21\n",
      "各自由度分量:\n",
      "νtg = 4.0\n",
      "νU = 4.0\n",
      "νte = 4.0\n",
      "合成自由度ν = 7.98840433813653\n",
      "包含因子k = 4.279041665504646\n",
      "不确定度报告：\n",
      "\\begin{equation}\n",
      "X=\\bar{X}\\pm U_{X}\\approx(0.000000\\pm 0.000000)\n",
      "\\end{equation} \n",
      "其中展伸不确定度$U_{X}={k}\\times{u_{X}}\\approx0.000000$，是由合成标准不确定度$u_{X}\\approx0.000000$和包含因子$k\\approx4.279042$确定的，k是依据置信概率$P=99.73\\%$和自由度$\\nu\\approx7.99$查t分布表得到的。\n"
     ]
    },
    {
     "data": {
      "text/plain": [
       "(9.05339914956872e-19,\n",
       " 4.279041665504646,\n",
       " 8.75689429075809e-21,\n",
       " 7.98840433813653)"
      ]
     },
     "execution_count": 34,
     "metadata": {},
     "output_type": "execute_result"
    }
   ],
   "source": [
    "EDA(np.array([tg2,U2,te2])).UncertaintyReport(func=q2)"
   ]
  },
  {
   "cell_type": "code",
   "execution_count": 36,
   "metadata": {},
   "outputs": [
    {
     "name": "stdout",
     "output_type": "stream",
     "text": [
      "各平均值为:\n",
      "[ 16.42 472.    16.52]\n",
      "各测量列的标准差为:\n",
      "[0.14832397 0.         0.16431677]\n",
      "各平均值的标准差为:\n",
      "[0.0663325  0.         0.07348469]\n",
      "各测量列的自由度为:\n",
      "[4. 4. 4.]\n",
      "间接测量量： 5.714079081689112e-19\n",
      "所有参数为: tg,U,te\n",
      "{tg: 0.06633249580710836, U: 0.0, te: 0.07348469228349541}\n",
      "传递系数和各项标准不确定度：\n",
      "atg = -5.11260362392228e-15*(1/tg + 1/te)*(1/tg)**0.5*(1/(0.0219206437173919*(1/tg)**(-0.5) + 1))**1.5/(U*tg) - 1.6810734376237e-16*(1/tg + 1/te)*(1/(0.0219206437173919*(1/tg)**(-0.5) + 1))**1.5/(U*tg*(0.0219206437173919*(1/tg)**(-0.5) + 1)) - 1.02252072478446e-14*(1/tg)**0.5*(1/(0.0219206437173919*(1/tg)**(-0.5) + 1))**1.5/(U*tg**2) = -3.69815264061195e-20\n",
      "u1 =atg*utg = -2.45307694527439e-21\n",
      "aU = -1.02252072478446e-14*(1/tg + 1/te)*(1/tg)**0.5*(1/(0.0219206437173919*(1/tg)**(-0.5) + 1))**1.5/U**2 = -1.21060997493413e-21\n",
      "u2 =aU*uU = 0\n",
      "ate = -1.02252072478446e-14*(1/tg)**0.5*(1/(0.0219206437173919*(1/tg)**(-0.5) + 1))**1.5/(U*te**2) = -1.72419253954536e-20\n",
      "u3 =ate*ute = -1.26701758205989e-21\n",
      "合成标准不确定度u = 2.76096360944610e-21\n",
      "各自由度分量:\n",
      "νtg = 4.0\n",
      "νU = 4.0\n",
      "νte = 4.0\n",
      "合成自由度ν = 5.99239417645439\n",
      "包含因子k = 4.907512984683874\n",
      "不确定度报告：\n",
      "\\begin{equation}\n",
      "X=\\bar{X}\\pm U_{X}\\approx(0.000000\\pm 0.000000)\n",
      "\\end{equation} \n",
      "其中展伸不确定度$U_{X}={k}\\times{u_{X}}\\approx0.000000$，是由合成标准不确定度$u_{X}\\approx0.000000$和包含因子$k\\approx4.907513$确定的，k是依据置信概率$P=99.73\\%$和自由度$\\nu\\approx5.99$查t分布表得到的。\n"
     ]
    },
    {
     "data": {
      "text/plain": [
       "(5.714079081689112e-19,\n",
       " 4.907512984683874,\n",
       " 2.76096360944610e-21,\n",
       " 5.99239417645439)"
      ]
     },
     "execution_count": 36,
     "metadata": {},
     "output_type": "execute_result"
    }
   ],
   "source": [
    "EDA(np.array([tg3,U3,te3])).UncertaintyReport(func = q2)"
   ]
  },
  {
   "cell_type": "code",
   "execution_count": 37,
   "metadata": {},
   "outputs": [
    {
     "name": "stdout",
     "output_type": "stream",
     "text": [
      "各平均值为:\n",
      "[ 22.408 388.     18.78 ]\n",
      "各测量列的标准差为:\n",
      "[0.17020576 0.         0.27748874]\n",
      "各平均值的标准差为:\n",
      "[0.07611833 0.         0.12409674]\n",
      "各测量列的自由度为:\n",
      "[4. 4. 4.]\n",
      "间接测量量： 4.698891094166673e-19\n",
      "所有参数为: tg,U,te\n",
      "{tg: 0.07611832893594048, U: 0.0, te: 0.12409673645990875}\n",
      "传递系数和各项标准不确定度：\n",
      "atg = -5.11260362392228e-15*(1/tg + 1/te)*(1/tg)**0.5*(1/(0.0219206437173919*(1/tg)**(-0.5) + 1))**1.5/(U*tg) - 1.6810734376237e-16*(1/tg + 1/te)*(1/(0.0219206437173919*(1/tg)**(-0.5) + 1))**1.5/(U*tg*(0.0219206437173919*(1/tg)**(-0.5) + 1)) - 1.02252072478446e-14*(1/tg)**0.5*(1/(0.0219206437173919*(1/tg)**(-0.5) + 1))**1.5/(U*tg**2) = -2.15246908133012e-20\n",
      "u1 =atg*utg = -1.63842349557128e-21\n",
      "aU = -1.02252072478446e-14*(1/tg + 1/te)*(1/tg)**0.5*(1/(0.0219206437173919*(1/tg)**(-0.5) + 1))**1.5/U**2 = -1.21105440571306e-21\n",
      "u2 =aU*uU = 0\n",
      "ate = -1.02252072478446e-14*(1/tg)**0.5*(1/(0.0219206437173919*(1/tg)**(-0.5) + 1))**1.5/(U*te**2) = -1.36123210455239e-20\n",
      "u3 =ate*ute = -1.68924461739405e-21\n",
      "合成标准不确定度u = 2.35329108446762e-21\n",
      "各自由度分量:\n",
      "νtg = 4.0\n",
      "νU = 4.0\n",
      "νte = 4.0\n",
      "合成自由度ν = 7.99254665734873\n",
      "包含因子k = 4.278160070301925\n",
      "不确定度报告：\n",
      "\\begin{equation}\n",
      "X=\\bar{X}\\pm U_{X}\\approx(0.000000\\pm 0.000000)\n",
      "\\end{equation} \n",
      "其中展伸不确定度$U_{X}={k}\\times{u_{X}}\\approx0.000000$，是由合成标准不确定度$u_{X}\\approx0.000000$和包含因子$k\\approx4.278160$确定的，k是依据置信概率$P=99.73\\%$和自由度$\\nu\\approx7.99$查t分布表得到的。\n"
     ]
    },
    {
     "data": {
      "text/plain": [
       "(4.698891094166673e-19,\n",
       " 4.278160070301925,\n",
       " 2.35329108446762e-21,\n",
       " 7.99254665734873)"
      ]
     },
     "execution_count": 37,
     "metadata": {},
     "output_type": "execute_result"
    }
   ],
   "source": [
    "EDA(np.array([tg4,U4,te4])).UncertaintyReport(func=q2)"
   ]
  },
  {
   "cell_type": "code",
   "execution_count": 38,
   "metadata": {},
   "outputs": [
    {
     "name": "stdout",
     "output_type": "stream",
     "text": [
      "各平均值为:\n",
      "[ 22.506 348.     13.63 ]\n",
      "各测量列的标准差为:\n",
      "[0.16697305 0.         0.1811077 ]\n",
      "各平均值的标准差为:\n",
      "[0.07467262 0.         0.08099383]\n",
      "各测量列的自由度为:\n",
      "[4. 4. 4.]\n",
      "间接测量量： 6.289851298793884e-19\n",
      "所有参数为: tg,U,te\n",
      "{tg: 0.07467261881037807, U: 0.0, te: 0.08099382692526627}\n",
      "传递系数和各项标准不确定度：\n",
      "atg = -5.11260362392228e-15*(1/tg + 1/te)*(1/tg)**0.5*(1/(0.0219206437173919*(1/tg)**(-0.5) + 1))**1.5/(U*tg) - 1.6810734376237e-16*(1/tg + 1/te)*(1/(0.0219206437173919*(1/tg)**(-0.5) + 1))**1.5/(U*tg*(0.0219206437173919*(1/tg)**(-0.5) + 1)) - 1.02252072478446e-14*(1/tg)**0.5*(1/(0.0219206437173919*(1/tg)**(-0.5) + 1))**1.5/(U*tg**2) = -2.64895304225805e-20\n",
      "u1 =atg*utg = -1.97804260771127e-21\n",
      "aU = -1.02252072478446e-14*(1/tg + 1/te)*(1/tg)**0.5*(1/(0.0219206437173919*(1/tg)**(-0.5) + 1))**1.5/U**2 = -1.80742853413617e-21\n",
      "u2 =aU*uU = 0\n",
      "ate = -1.02252072478446e-14*(1/tg)**0.5*(1/(0.0219206437173919*(1/tg)**(-0.5) + 1))**1.5/(U*te**2) = -2.87410585466267e-20\n",
      "u3 =ate*ute = -2.32784832157443e-21\n",
      "合成标准不确定度u = 3.05475536928542e-21\n",
      "各自由度分量:\n",
      "νtg = 4.0\n",
      "νU = 4.0\n",
      "νte = 4.0\n",
      "合成自由度ν = 7.79686073470036\n",
      "包含因子k = 4.321151151112624\n",
      "不确定度报告：\n",
      "\\begin{equation}\n",
      "X=\\bar{X}\\pm U_{X}\\approx(0.000000\\pm 0.000000)\n",
      "\\end{equation} \n",
      "其中展伸不确定度$U_{X}={k}\\times{u_{X}}\\approx0.000000$，是由合成标准不确定度$u_{X}\\approx0.000000$和包含因子$k\\approx4.321151$确定的，k是依据置信概率$P=99.73\\%$和自由度$\\nu\\approx7.80$查t分布表得到的。\n"
     ]
    },
    {
     "data": {
      "text/plain": [
       "(6.289851298793884e-19,\n",
       " 4.321151151112624,\n",
       " 3.05475536928542e-21,\n",
       " 7.79686073470036)"
      ]
     },
     "execution_count": 38,
     "metadata": {},
     "output_type": "execute_result"
    }
   ],
   "source": [
    "EDA(np.array([tg5,U5,te5])).UncertaintyReport(func = q2)"
   ]
  },
  {
   "cell_type": "code",
   "execution_count": 1,
   "metadata": {},
   "outputs": [
    {
     "data": {
      "text/plain": [
       "[2.7902621722846437,\n",
       " 5.6491885143570535,\n",
       " 3.5642946317103616,\n",
       " 2.933832709113608,\n",
       " 3.9263420724094877]"
      ]
     },
     "execution_count": 1,
     "metadata": {},
     "output_type": "execute_result"
    }
   ],
   "source": [
    "[4.47/1.602,9.05/1.602,5.71/1.602,4.70/1.602,6.29/1.602]"
   ]
  },
  {
   "cell_type": "code",
   "execution_count": 4,
   "metadata": {},
   "outputs": [
    {
     "name": "stdout",
     "output_type": "stream",
     "text": [
      "各平均值为:\n",
      "[nan]\n",
      "各测量列的标准差为:\n",
      "[-0.]\n",
      "各平均值的标准差为:\n",
      "[nan]\n",
      "各测量列的自由度为:\n",
      "[-1.]\n",
      "间接测量量： 1.5135038949355453\n",
      "所有参数为: q1,q2,q3,q4,q5\n",
      "{q1: 0.0574978862568254, q2: 0.0875689429075809, q3: 0.027609636094461, q4: 0.0235329108446762, q5: 0.0305475536928542}\n",
      "传递系数和各项标准不确定度：\n",
      "aq1 = 1/15 = 1/15\n",
      "u1 =aq1*uq1 = 0.00383319241712169\n",
      "aq2 = 1/30 = 1/30\n",
      "u2 =aq2*uq2 = 0.00291896476358603\n",
      "aq3 = 1/20 = 1/20\n",
      "u3 =aq3*uq3 = 0.00138048180472305\n",
      "aq4 = 1/15 = 1/15\n",
      "u4 =aq4*uq4 = 0.00156886072297841\n",
      "aq5 = 1/20 = 1/20\n",
      "u5 =aq5*uq5 = 0.00152737768464271\n",
      "合成标准不确定度u = 0.00546933780000435\n",
      "各自由度分量:\n",
      "νq1 = 5.0938651395494\n",
      "νq2 = 7.98840433813653\n",
      "νq3 = 5.99239417645439\n",
      "νq4 = 7.99254665734873\n",
      "νq5 = 7.79686073470036\n",
      "合成自由度ν = 16.7153892591373\n",
      "包含因子k = 3.51737854961027\n",
      "不确定度报告：\n",
      "\\begin{equation}\n",
      "X=\\bar{X}\\pm U_{X}\\approx(1.513504\\pm 0.019238)\n",
      "\\end{equation} \n",
      "其中展伸不确定度$U_{X}={k}\\times{u_{X}}\\approx0.019238$，是由合成标准不确定度$u_{X}\\approx0.005469$和包含因子$k\\approx3.517379$确定的，k是依据置信概率$P=99.73\\%$和自由度$\\nu\\approx16.72$查t分布表得到的。\n"
     ]
    },
    {
     "name": "stderr",
     "output_type": "stream",
     "text": [
      "D:\\Anaconda\\lib\\site-packages\\numpy\\lib\\function_base.py:380: RuntimeWarning: Mean of empty slice.\n",
      "  avg = a.mean(axis)\n",
      "D:\\Anaconda\\lib\\site-packages\\numpy\\core\\_methods.py:188: RuntimeWarning: invalid value encountered in double_scalars\n",
      "  ret = ret.dtype.type(ret / rcount)\n",
      "D:\\Anaconda\\lib\\site-packages\\numpy\\lib\\function_base.py:380: RuntimeWarning: Mean of empty slice.\n",
      "  avg = a.mean(axis)\n",
      "D:\\Anaconda\\lib\\site-packages\\numpy\\core\\_methods.py:188: RuntimeWarning: invalid value encountered in double_scalars\n",
      "  ret = ret.dtype.type(ret / rcount)\n",
      "e:\\Python\\Physics\\Fudermental Experiments\\ExpDataAnalysis.py:61: RuntimeWarning: invalid value encountered in true_divide\n",
      "  AvgBslStd = BslStd/np.sqrt(self.L.shape[1])\n"
     ]
    },
    {
     "data": {
      "text/plain": [
       "(1.5135038949355453, 3.51737854961027, 0.00546933780000435, 16.7153892591373)"
      ]
     },
     "execution_count": 4,
     "metadata": {},
     "output_type": "execute_result"
    }
   ],
   "source": [
    "exData=np.array([[4.4740199697199,9.05339914956872,5.714079081689112,4.698891094166673,6.289851298793884],\n",
    "                [5.74978862568254e-2,8.75689429075809e-2,2.76096360944610e-2,2.35329108446762e-2,3.05475536928542e-2],\n",
    "                [5.09386513954940,7.98840433813653,5.99239417645439,7.99254665734873,7.79686073470036]])\n",
    "def e2(L):\n",
    "    q1,q2,q3,q4,q5 = L\n",
    "    return (q1/3+q2/6+q3/4+q4/3+q5/4)/5\n",
    "\n",
    "EDA(np.array([[]])).UncertaintyReport(exData=exData,func = e2)"
   ]
  },
  {
   "cell_type": "code",
   "execution_count": 10,
   "metadata": {},
   "outputs": [
    {
     "name": "stderr",
     "output_type": "stream",
     "text": [
      "D:\\Anaconda\\lib\\site-packages\\seaborn\\_decorators.py:36: FutureWarning: Pass the following variables as keyword args: x, y. From version 0.12, the only valid positional argument will be `data`, and passing other arguments without an explicit keyword will result in an error or misinterpretation.\n",
      "  warnings.warn(\n"
     ]
    },
    {
     "data": {
      "text/plain": [
       "(<Figure size 576x432 with 1 Axes>,\n",
       " <AxesSubplot:xlabel='带电荷数$n$', ylabel='电荷量$q/\\\\times10^{-19}C$'>,\n",
       " array([1.48898121, 0.0901233 ]),\n",
       " array([0.10475315, 0.43444152]),\n",
       " array([0.00689679, 0.00086369, 0.11020344, 0.0201141 , 0.05943999]),\n",
       " 0.985368936346449)"
      ]
     },
     "execution_count": 10,
     "metadata": {},
     "output_type": "execute_result"
    },
    {
     "data": {
      "image/png": "[encoded data removed]",
      "text/plain": [
       "<Figure size 576x432 with 1 Axes>"
      ]
     },
     "metadata": {
      "needs_background": "light"
     },
     "output_type": "display_data"
    }
   ],
   "source": [
    "EDA(np.array([[4.4740199697199,9.05339914956872,5.714079081689112,4.698891094166673,6.289851298793884]])\n",
    "    ,np.array([[3,6,4,3,4]])).LinearPlot(xlabel='带电荷数$n$',ylabel='电荷量$q/\\\\times10^{-19}C$',title='q-n拟合直线',xname='n',yname='q',FileAdress='E:/Latex/FE 2/BA4/动态法拟合.png')"
   ]
  },
  {
   "cell_type": "code",
   "execution_count": 12,
   "metadata": {},
   "outputs": [
    {
     "name": "stdout",
     "output_type": "stream",
     "text": [
      "间接测量量： 1.5135038949355453\n",
      "所有参数为: q1,q2,q3,q4,q5\n",
      "{q1: 0.0574978862568254, q2: 0.0875689429075809, q3: 0.027609636094461, q4: 0.0235329108446762, q5: 0.0305475536928542}\n",
      "传递系数和各项标准不确定度：\n",
      "aq1 = 1/15 = 1/15\n",
      "u1 =aq1*uq1 = 0.00383319241712169\n",
      "aq2 = 1/30 = 1/30\n",
      "u2 =aq2*uq2 = 0.00291896476358603\n",
      "aq3 = 1/20 = 1/20\n",
      "u3 =aq3*uq3 = 0.00138048180472305\n",
      "aq4 = 1/15 = 1/15\n",
      "u4 =aq4*uq4 = 0.00156886072297841\n",
      "aq5 = 1/20 = 1/20\n",
      "u5 =aq5*uq5 = 0.00152737768464271\n",
      "合成标准不确定度u = 0.00546933780000435\n",
      "各自由度分量:\n",
      "νq1 = 5.0938651395494\n",
      "νq2 = 7.98840433813653\n",
      "νq3 = 5.99239417645439\n",
      "νq4 = 7.99254665734873\n",
      "νq5 = 7.79686073470036\n",
      "合成自由度ν = 16.7153892591373\n",
      "包含因子k = 3.51737854961027\n"
     ]
    }
   ],
   "source": [
    "print('间接测量量： 1.5135038949355453\\n所有参数为: q1,q2,q3,q4,q5\\n{q1: 0.0574978862568254, q2: 0.0875689429075809, q3: 0.027609636094461, q4: 0.0235329108446762, q5: 0.0305475536928542}\\n传递系数和各项标准不确定度：\\naq1 = 1/15 = 1/15\\nu1 =aq1*uq1 = 0.00383319241712169\\naq2 = 1/30 = 1/30\\nu2 =aq2*uq2 = 0.00291896476358603\\naq3 = 1/20 = 1/20\\nu3 =aq3*uq3 = 0.00138048180472305\\naq4 = 1/15 = 1/15\\nu4 =aq4*uq4 = 0.00156886072297841\\naq5 = 1/20 = 1/20\\nu5 =aq5*uq5 = 0.00152737768464271\\n合成标准不确定度u = 0.00546933780000435\\n各自由度分量:\\nνq1 = 5.0938651395494\\nνq2 = 7.98840433813653\\nνq3 = 5.99239417645439\\nνq4 = 7.99254665734873\\nνq5 = 7.79686073470036\\n合成自由度ν = 16.7153892591373\\n包含因子k = 3.51737854961027')"
   ]
  },
  {
   "cell_type": "code",
   "execution_count": null,
   "metadata": {},
   "outputs": [],
   "source": []
  }
 ],
 "metadata": {
  "interpreter": {
   "hash": "07efdcd4b820c98a756949507a4d29d7862823915ec7477944641bea022f4f62"
  },
  "kernelspec": {
   "display_name": "Python 3.8.8 64-bit ('base': conda)",
   "name": "python3"
  },
  "language_info": {
   "codemirror_mode": {
    "name": "ipython",
    "version": 3
   },
   "file_extension": ".py",
   "mimetype": "text/x-python",
   "name": "python",
   "nbconvert_exporter": "python",
   "pygments_lexer": "ipython3",
   "version": "3.8.8"
  },
  "orig_nbformat": 4
 },
 "nbformat": 4,
 "nbformat_minor": 2
}
